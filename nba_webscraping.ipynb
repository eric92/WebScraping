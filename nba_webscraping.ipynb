{
 "cells": [
  {
   "cell_type": "markdown",
   "metadata": {},
   "source": [
    "### INTRO\n",
    "\n",
    "In this Notebook you will find a simple web scraping project using Pandas. Pandas webscraping is an effective and fast \n",
    "to scrape data from the web (especially tables) that many people are not aware of.\n",
    "this is a short Notebook - Enjoy ! Please iplot visible "
   ]
  },
  {
   "cell_type": "code",
   "execution_count": 19,
   "metadata": {},
   "outputs": [
    {
     "name": "stdout",
     "output_type": "stream",
     "text": [
      "Populating the interactive namespace from numpy and matplotlib\n"
     ]
    },
    {
     "name": "stderr",
     "output_type": "stream",
     "text": [
      "/Users/JB/opt/anaconda3/lib/python3.7/site-packages/IPython/core/magics/pylab.py:160: UserWarning:\n",
      "\n",
      "pylab import has clobbered these variables: ['plot']\n",
      "`%matplotlib` prevents importing * from pylab and numpy\n",
      "\n"
     ]
    },
    {
     "data": {
      "text/html": [
       "        <script type=\"text/javascript\">\n",
       "        window.PlotlyConfig = {MathJaxConfig: 'local'};\n",
       "        if (window.MathJax) {MathJax.Hub.Config({SVG: {font: \"STIX-Web\"}});}\n",
       "        if (typeof require !== 'undefined') {\n",
       "        require.undef(\"plotly\");\n",
       "        requirejs.config({\n",
       "            paths: {\n",
       "                'plotly': ['https://cdn.plot.ly/plotly-latest.min']\n",
       "            }\n",
       "        });\n",
       "        require(['plotly'], function(Plotly) {\n",
       "            window._Plotly = Plotly;\n",
       "        });\n",
       "        }\n",
       "        </script>\n",
       "        "
      ]
     },
     "metadata": {},
     "output_type": "display_data"
    }
   ],
   "source": [
    "import pandas as pd\n",
    "%pylab inline\n",
    "import chart_studio.plotly as py\n",
    "import cufflinks as cf\n",
    "cf.go_offline()\n",
    "import plotly.express as px\n",
    "import seaborn as sns\n",
    "from plotly.offline import download_plotlyjs, init_notebook_mode,plot, iplot\n",
    "import seaborn as sns"
   ]
  },
  {
   "cell_type": "code",
   "execution_count": 20,
   "metadata": {},
   "outputs": [],
   "source": [
    "url='https://www.basketball-reference.com/leagues/NBA_2020_per_game.html'"
   ]
  },
  {
   "cell_type": "code",
   "execution_count": 21,
   "metadata": {},
   "outputs": [
    {
     "data": {
      "text/plain": [
       "[      Rk                    Player Pos Age   Tm   G  GS    MP   FG   FGA  ...  \\\n",
       " 0      1              Steven Adams   C  26  OKC  63  63  26.7  4.5   7.6  ...   \n",
       " 1      2               Bam Adebayo  PF  22  MIA  72  72  33.6  6.1  11.0  ...   \n",
       " 2      3         LaMarcus Aldridge   C  34  SAS  53  53  33.1  7.4  15.0  ...   \n",
       " 3      4            Kyle Alexander   C  23  MIA   2   0   6.5  0.5   1.0  ...   \n",
       " 4      5  Nickeil Alexander-Walker  SG  21  NOP  47   1  12.6  2.1   5.7  ...   \n",
       " ..   ...                       ...  ..  ..  ...  ..  ..   ...  ...   ...  ...   \n",
       " 672  525                Trae Young  PG  21  ATL  60  60  35.3  9.1  20.8  ...   \n",
       " 673  526               Cody Zeller   C  27  CHO  58  39  23.1  4.3   8.3  ...   \n",
       " 674  527              Tyler Zeller   C  30  SAS   2   0   2.0  0.5   2.0  ...   \n",
       " 675  528                Ante Žižić   C  23  CLE  22   0  10.0  1.9   3.3  ...   \n",
       " 676  529               Ivica Zubac   C  22  LAC  72  70  18.4  3.3   5.3  ...   \n",
       " \n",
       "       FT%  ORB  DRB   TRB  AST  STL  BLK  TOV   PF   PTS  \n",
       " 0    .582  3.3  6.0   9.3  2.3  0.8  1.1  1.5  1.9  10.9  \n",
       " 1    .691  2.4  7.8  10.2  5.1  1.1  1.3  2.8  2.5  15.9  \n",
       " 2    .827  1.9  5.5   7.4  2.4  0.7  1.6  1.4  2.4  18.9  \n",
       " 3     NaN  1.0  0.5   1.5  0.0  0.0  0.0  0.5  0.5   1.0  \n",
       " 4    .676  0.2  1.6   1.8  1.9  0.4  0.2  1.1  1.2   5.7  \n",
       " ..    ...  ...  ...   ...  ...  ...  ...  ...  ...   ...  \n",
       " 672  .860  0.5  3.7   4.3  9.3  1.1  0.1  4.8  1.7  29.6  \n",
       " 673  .682  2.8  4.3   7.1  1.5  0.7  0.4  1.3  2.4  11.1  \n",
       " 674   NaN  1.5  0.5   2.0  0.0  0.0  0.0  0.0  0.0   1.0  \n",
       " 675  .737  0.8  2.2   3.0  0.3  0.3  0.2  0.5  1.2   4.4  \n",
       " 676  .747  2.7  4.8   7.5  1.1  0.2  0.9  0.8  2.3   8.3  \n",
       " \n",
       " [677 rows x 30 columns]]"
      ]
     },
     "execution_count": 21,
     "metadata": {},
     "output_type": "execute_result"
    }
   ],
   "source": [
    "df=pd.read_html(url)\n",
    "df "
   ]
  },
  {
   "cell_type": "code",
   "execution_count": 22,
   "metadata": {},
   "outputs": [
    {
     "data": {
      "text/plain": [
       "list"
      ]
     },
     "execution_count": 22,
     "metadata": {},
     "output_type": "execute_result"
    }
   ],
   "source": [
    "type(df) # the print function shows df is actually a list. Please read more on read_html"
   ]
  },
  {
   "cell_type": "code",
   "execution_count": 23,
   "metadata": {},
   "outputs": [
    {
     "data": {
      "text/html": [
       "<div>\n",
       "<style scoped>\n",
       "    .dataframe tbody tr th:only-of-type {\n",
       "        vertical-align: middle;\n",
       "    }\n",
       "\n",
       "    .dataframe tbody tr th {\n",
       "        vertical-align: top;\n",
       "    }\n",
       "\n",
       "    .dataframe thead th {\n",
       "        text-align: right;\n",
       "    }\n",
       "</style>\n",
       "<table border=\"1\" class=\"dataframe\">\n",
       "  <thead>\n",
       "    <tr style=\"text-align: right;\">\n",
       "      <th></th>\n",
       "      <th>Rk</th>\n",
       "      <th>Player</th>\n",
       "      <th>Pos</th>\n",
       "      <th>Age</th>\n",
       "      <th>Tm</th>\n",
       "      <th>G</th>\n",
       "      <th>GS</th>\n",
       "      <th>MP</th>\n",
       "      <th>FG</th>\n",
       "      <th>FGA</th>\n",
       "      <th>...</th>\n",
       "      <th>FT%</th>\n",
       "      <th>ORB</th>\n",
       "      <th>DRB</th>\n",
       "      <th>TRB</th>\n",
       "      <th>AST</th>\n",
       "      <th>STL</th>\n",
       "      <th>BLK</th>\n",
       "      <th>TOV</th>\n",
       "      <th>PF</th>\n",
       "      <th>PTS</th>\n",
       "    </tr>\n",
       "  </thead>\n",
       "  <tbody>\n",
       "    <tr>\n",
       "      <th>0</th>\n",
       "      <td>1</td>\n",
       "      <td>Steven Adams</td>\n",
       "      <td>C</td>\n",
       "      <td>26</td>\n",
       "      <td>OKC</td>\n",
       "      <td>63</td>\n",
       "      <td>63</td>\n",
       "      <td>26.7</td>\n",
       "      <td>4.5</td>\n",
       "      <td>7.6</td>\n",
       "      <td>...</td>\n",
       "      <td>.582</td>\n",
       "      <td>3.3</td>\n",
       "      <td>6.0</td>\n",
       "      <td>9.3</td>\n",
       "      <td>2.3</td>\n",
       "      <td>0.8</td>\n",
       "      <td>1.1</td>\n",
       "      <td>1.5</td>\n",
       "      <td>1.9</td>\n",
       "      <td>10.9</td>\n",
       "    </tr>\n",
       "    <tr>\n",
       "      <th>1</th>\n",
       "      <td>2</td>\n",
       "      <td>Bam Adebayo</td>\n",
       "      <td>PF</td>\n",
       "      <td>22</td>\n",
       "      <td>MIA</td>\n",
       "      <td>72</td>\n",
       "      <td>72</td>\n",
       "      <td>33.6</td>\n",
       "      <td>6.1</td>\n",
       "      <td>11.0</td>\n",
       "      <td>...</td>\n",
       "      <td>.691</td>\n",
       "      <td>2.4</td>\n",
       "      <td>7.8</td>\n",
       "      <td>10.2</td>\n",
       "      <td>5.1</td>\n",
       "      <td>1.1</td>\n",
       "      <td>1.3</td>\n",
       "      <td>2.8</td>\n",
       "      <td>2.5</td>\n",
       "      <td>15.9</td>\n",
       "    </tr>\n",
       "    <tr>\n",
       "      <th>2</th>\n",
       "      <td>3</td>\n",
       "      <td>LaMarcus Aldridge</td>\n",
       "      <td>C</td>\n",
       "      <td>34</td>\n",
       "      <td>SAS</td>\n",
       "      <td>53</td>\n",
       "      <td>53</td>\n",
       "      <td>33.1</td>\n",
       "      <td>7.4</td>\n",
       "      <td>15.0</td>\n",
       "      <td>...</td>\n",
       "      <td>.827</td>\n",
       "      <td>1.9</td>\n",
       "      <td>5.5</td>\n",
       "      <td>7.4</td>\n",
       "      <td>2.4</td>\n",
       "      <td>0.7</td>\n",
       "      <td>1.6</td>\n",
       "      <td>1.4</td>\n",
       "      <td>2.4</td>\n",
       "      <td>18.9</td>\n",
       "    </tr>\n",
       "  </tbody>\n",
       "</table>\n",
       "<p>3 rows × 30 columns</p>\n",
       "</div>"
      ],
      "text/plain": [
       "  Rk             Player Pos Age   Tm   G  GS    MP   FG   FGA  ...   FT%  ORB  \\\n",
       "0  1       Steven Adams   C  26  OKC  63  63  26.7  4.5   7.6  ...  .582  3.3   \n",
       "1  2        Bam Adebayo  PF  22  MIA  72  72  33.6  6.1  11.0  ...  .691  2.4   \n",
       "2  3  LaMarcus Aldridge   C  34  SAS  53  53  33.1  7.4  15.0  ...  .827  1.9   \n",
       "\n",
       "   DRB   TRB  AST  STL  BLK  TOV   PF   PTS  \n",
       "0  6.0   9.3  2.3  0.8  1.1  1.5  1.9  10.9  \n",
       "1  7.8  10.2  5.1  1.1  1.3  2.8  2.5  15.9  \n",
       "2  5.5   7.4  2.4  0.7  1.6  1.4  2.4  18.9  \n",
       "\n",
       "[3 rows x 30 columns]"
      ]
     },
     "execution_count": 23,
     "metadata": {},
     "output_type": "execute_result"
    }
   ],
   "source": [
    "df[0].head(3) # Looking at the first 3 rows"
   ]
  },
  {
   "cell_type": "code",
   "execution_count": 24,
   "metadata": {},
   "outputs": [],
   "source": [
    "years=[2015,2016,2017,2018,2019,2020]\n",
    "\n",
    "url='https://www.basketball-reference.com/leagues/NBA_{}_per_game.html'\n",
    " \n",
    "urls=[url.format(i) for i in years]"
   ]
  },
  {
   "cell_type": "code",
   "execution_count": 25,
   "metadata": {},
   "outputs": [],
   "source": [
    "dfs=[pd.read_html(i) for i in urls]"
   ]
  },
  {
   "cell_type": "code",
   "execution_count": 26,
   "metadata": {},
   "outputs": [
    {
     "data": {
      "text/html": [
       "<div>\n",
       "<style scoped>\n",
       "    .dataframe tbody tr th:only-of-type {\n",
       "        vertical-align: middle;\n",
       "    }\n",
       "\n",
       "    .dataframe tbody tr th {\n",
       "        vertical-align: top;\n",
       "    }\n",
       "\n",
       "    .dataframe thead th {\n",
       "        text-align: right;\n",
       "    }\n",
       "</style>\n",
       "<table border=\"1\" class=\"dataframe\">\n",
       "  <thead>\n",
       "    <tr style=\"text-align: right;\">\n",
       "      <th></th>\n",
       "      <th>Rk</th>\n",
       "      <th>Player</th>\n",
       "      <th>Pos</th>\n",
       "      <th>Age</th>\n",
       "      <th>Tm</th>\n",
       "      <th>G</th>\n",
       "      <th>GS</th>\n",
       "      <th>MP</th>\n",
       "      <th>FG</th>\n",
       "      <th>FGA</th>\n",
       "      <th>...</th>\n",
       "      <th>FT%</th>\n",
       "      <th>ORB</th>\n",
       "      <th>DRB</th>\n",
       "      <th>TRB</th>\n",
       "      <th>AST</th>\n",
       "      <th>STL</th>\n",
       "      <th>BLK</th>\n",
       "      <th>TOV</th>\n",
       "      <th>PF</th>\n",
       "      <th>PTS</th>\n",
       "    </tr>\n",
       "  </thead>\n",
       "  <tbody>\n",
       "    <tr>\n",
       "      <th>0</th>\n",
       "      <td>1</td>\n",
       "      <td>Steven Adams</td>\n",
       "      <td>C</td>\n",
       "      <td>26</td>\n",
       "      <td>OKC</td>\n",
       "      <td>63</td>\n",
       "      <td>63</td>\n",
       "      <td>26.7</td>\n",
       "      <td>4.5</td>\n",
       "      <td>7.6</td>\n",
       "      <td>...</td>\n",
       "      <td>.582</td>\n",
       "      <td>3.3</td>\n",
       "      <td>6.0</td>\n",
       "      <td>9.3</td>\n",
       "      <td>2.3</td>\n",
       "      <td>0.8</td>\n",
       "      <td>1.1</td>\n",
       "      <td>1.5</td>\n",
       "      <td>1.9</td>\n",
       "      <td>10.9</td>\n",
       "    </tr>\n",
       "    <tr>\n",
       "      <th>1</th>\n",
       "      <td>2</td>\n",
       "      <td>Bam Adebayo</td>\n",
       "      <td>PF</td>\n",
       "      <td>22</td>\n",
       "      <td>MIA</td>\n",
       "      <td>72</td>\n",
       "      <td>72</td>\n",
       "      <td>33.6</td>\n",
       "      <td>6.1</td>\n",
       "      <td>11.0</td>\n",
       "      <td>...</td>\n",
       "      <td>.691</td>\n",
       "      <td>2.4</td>\n",
       "      <td>7.8</td>\n",
       "      <td>10.2</td>\n",
       "      <td>5.1</td>\n",
       "      <td>1.1</td>\n",
       "      <td>1.3</td>\n",
       "      <td>2.8</td>\n",
       "      <td>2.5</td>\n",
       "      <td>15.9</td>\n",
       "    </tr>\n",
       "    <tr>\n",
       "      <th>2</th>\n",
       "      <td>3</td>\n",
       "      <td>LaMarcus Aldridge</td>\n",
       "      <td>C</td>\n",
       "      <td>34</td>\n",
       "      <td>SAS</td>\n",
       "      <td>53</td>\n",
       "      <td>53</td>\n",
       "      <td>33.1</td>\n",
       "      <td>7.4</td>\n",
       "      <td>15.0</td>\n",
       "      <td>...</td>\n",
       "      <td>.827</td>\n",
       "      <td>1.9</td>\n",
       "      <td>5.5</td>\n",
       "      <td>7.4</td>\n",
       "      <td>2.4</td>\n",
       "      <td>0.7</td>\n",
       "      <td>1.6</td>\n",
       "      <td>1.4</td>\n",
       "      <td>2.4</td>\n",
       "      <td>18.9</td>\n",
       "    </tr>\n",
       "    <tr>\n",
       "      <th>3</th>\n",
       "      <td>4</td>\n",
       "      <td>Kyle Alexander</td>\n",
       "      <td>C</td>\n",
       "      <td>23</td>\n",
       "      <td>MIA</td>\n",
       "      <td>2</td>\n",
       "      <td>0</td>\n",
       "      <td>6.5</td>\n",
       "      <td>0.5</td>\n",
       "      <td>1.0</td>\n",
       "      <td>...</td>\n",
       "      <td>NaN</td>\n",
       "      <td>1.0</td>\n",
       "      <td>0.5</td>\n",
       "      <td>1.5</td>\n",
       "      <td>0.0</td>\n",
       "      <td>0.0</td>\n",
       "      <td>0.0</td>\n",
       "      <td>0.5</td>\n",
       "      <td>0.5</td>\n",
       "      <td>1.0</td>\n",
       "    </tr>\n",
       "    <tr>\n",
       "      <th>4</th>\n",
       "      <td>5</td>\n",
       "      <td>Nickeil Alexander-Walker</td>\n",
       "      <td>SG</td>\n",
       "      <td>21</td>\n",
       "      <td>NOP</td>\n",
       "      <td>47</td>\n",
       "      <td>1</td>\n",
       "      <td>12.6</td>\n",
       "      <td>2.1</td>\n",
       "      <td>5.7</td>\n",
       "      <td>...</td>\n",
       "      <td>.676</td>\n",
       "      <td>0.2</td>\n",
       "      <td>1.6</td>\n",
       "      <td>1.8</td>\n",
       "      <td>1.9</td>\n",
       "      <td>0.4</td>\n",
       "      <td>0.2</td>\n",
       "      <td>1.1</td>\n",
       "      <td>1.2</td>\n",
       "      <td>5.7</td>\n",
       "    </tr>\n",
       "  </tbody>\n",
       "</table>\n",
       "<p>5 rows × 30 columns</p>\n",
       "</div>"
      ],
      "text/plain": [
       "  Rk                    Player Pos Age   Tm   G  GS    MP   FG   FGA  ...  \\\n",
       "0  1              Steven Adams   C  26  OKC  63  63  26.7  4.5   7.6  ...   \n",
       "1  2               Bam Adebayo  PF  22  MIA  72  72  33.6  6.1  11.0  ...   \n",
       "2  3         LaMarcus Aldridge   C  34  SAS  53  53  33.1  7.4  15.0  ...   \n",
       "3  4            Kyle Alexander   C  23  MIA   2   0   6.5  0.5   1.0  ...   \n",
       "4  5  Nickeil Alexander-Walker  SG  21  NOP  47   1  12.6  2.1   5.7  ...   \n",
       "\n",
       "    FT%  ORB  DRB   TRB  AST  STL  BLK  TOV   PF   PTS  \n",
       "0  .582  3.3  6.0   9.3  2.3  0.8  1.1  1.5  1.9  10.9  \n",
       "1  .691  2.4  7.8  10.2  5.1  1.1  1.3  2.8  2.5  15.9  \n",
       "2  .827  1.9  5.5   7.4  2.4  0.7  1.6  1.4  2.4  18.9  \n",
       "3   NaN  1.0  0.5   1.5  0.0  0.0  0.0  0.5  0.5   1.0  \n",
       "4  .676  0.2  1.6   1.8  1.9  0.4  0.2  1.1  1.2   5.7  \n",
       "\n",
       "[5 rows x 30 columns]"
      ]
     },
     "execution_count": 26,
     "metadata": {},
     "output_type": "execute_result"
    }
   ],
   "source": [
    "dfs[5][0][:5] # Loking the "
   ]
  },
  {
   "cell_type": "code",
   "execution_count": 27,
   "metadata": {},
   "outputs": [],
   "source": [
    "df2015=dfs[0][0]\n",
    "df2016=dfs[1][0]\n",
    "df2017=dfs[2][0]\n",
    "df2018=dfs[3][0]\n",
    "df2019=dfs[4][0]\n",
    "df2020=dfs[5][0]"
   ]
  },
  {
   "cell_type": "code",
   "execution_count": 83,
   "metadata": {},
   "outputs": [],
   "source": [
    "class CurrentState:\n",
    "    def __init__(self,df,year):\n",
    "        self.df=df\n",
    "        self.year=year\n",
    "        self.df=self.df[~self.df['Rk'].str.contains('Rk')]\n",
    "        \n",
    "    def info(self):\n",
    "        print (self.df.info())\n",
    "        \n",
    "    def view(self,nrow: int):\n",
    "        print (self.df.head(nrow))\n",
    "             \n",
    "        \n",
    "    def showstate(self):\n",
    "        print('This is the current average of a league in {}:\\n'.format(self.year))\n",
    "        \n",
    "        print (pd.DataFrame(self.df[['Age', 'MP', 'FG%','3P%', 'FT%','TRB'\n",
    "        , 'AST', 'STL', 'BLK', 'PTS']].apply(pd.to_numeric,errors='coerce').mean().round(3)).T)\n",
    "        \n",
    "    def top_performers(self, n: int, col):\n",
    "        \"\"\"method allowing to see the top performers. Choose n performers and an aptitude\"\"\"\n",
    "        \n",
    "        self.df[col]=self.df[col].astype(float, errors='ignore')\n",
    "        \n",
    "        # Use this plot if you could use iplot (This is an interact plot)  \n",
    "        #self.df[['Player',col]].nlargest(n,col).set_index('Player').iplot(kind='bar')\n",
    "        plt.figure(figsize=(12,6))\n",
    "        sns.barplot(x='Player', y=col, data=self.df[['Player',col]].nlargest(n,col)[['Player', col]])\n",
    "        \n",
    "        "
   ]
  },
  {
   "cell_type": "code",
   "execution_count": 36,
   "metadata": {},
   "outputs": [
    {
     "name": "stdout",
     "output_type": "stream",
     "text": [
      "<class 'pandas.core.frame.DataFrame'>\n",
      "Int64Index: 708 entries, 0 to 733\n",
      "Data columns (total 30 columns):\n",
      " #   Column  Non-Null Count  Dtype \n",
      "---  ------  --------------  ----- \n",
      " 0   Rk      708 non-null    object\n",
      " 1   Player  708 non-null    object\n",
      " 2   Pos     708 non-null    object\n",
      " 3   Age     708 non-null    object\n",
      " 4   Tm      708 non-null    object\n",
      " 5   G       708 non-null    object\n",
      " 6   GS      708 non-null    object\n",
      " 7   MP      708 non-null    object\n",
      " 8   FG      708 non-null    object\n",
      " 9   FGA     708 non-null    object\n",
      " 10  FG%     702 non-null    object\n",
      " 11  3P      708 non-null    object\n",
      " 12  3PA     708 non-null    object\n",
      " 13  3P%     661 non-null    object\n",
      " 14  2P      708 non-null    object\n",
      " 15  2PA     708 non-null    object\n",
      " 16  2P%     693 non-null    object\n",
      " 17  eFG%    702 non-null    object\n",
      " 18  FT      708 non-null    object\n",
      " 19  FTA     708 non-null    object\n",
      " 20  FT%     665 non-null    object\n",
      " 21  ORB     708 non-null    object\n",
      " 22  DRB     708 non-null    object\n",
      " 23  TRB     708 non-null    object\n",
      " 24  AST     708 non-null    object\n",
      " 25  STL     708 non-null    object\n",
      " 26  BLK     708 non-null    object\n",
      " 27  TOV     708 non-null    object\n",
      " 28  PF      708 non-null    object\n",
      " 29  PTS     708 non-null    object\n",
      "dtypes: object(30)\n",
      "memory usage: 171.5+ KB\n",
      "None\n"
     ]
    }
   ],
   "source": [
    "CurrentState(df2019, 2019).info()"
   ]
  },
  {
   "cell_type": "code",
   "execution_count": 37,
   "metadata": {},
   "outputs": [
    {
     "name": "stdout",
     "output_type": "stream",
     "text": [
      "This is the current average of a league in 2020:\n",
      "\n",
      "      Age     MP    FG%    3P%    FT%    TRB    AST    STL    BLK    PTS\n",
      "0  25.763  19.18  0.443  0.313  0.744  3.563  1.844  0.618  0.398  8.461\n"
     ]
    }
   ],
   "source": [
    "CurrentState(df2020, 2020).showstate()"
   ]
  },
  {
   "cell_type": "code",
   "execution_count": 42,
   "metadata": {},
   "outputs": [
    {
     "name": "stdout",
     "output_type": "stream",
     "text": [
      "  Rk             Player Pos Age   Tm   G  GS    MP   FG   FGA  ...   FT%  ORB  \\\n",
      "0  1       Steven Adams   C  26  OKC  63  63  26.7  4.5   7.6  ...  .582  3.3   \n",
      "1  2        Bam Adebayo  PF  22  MIA  72  72  33.6  6.1  11.0  ...  .691  2.4   \n",
      "2  3  LaMarcus Aldridge   C  34  SAS  53  53  33.1  7.4  15.0  ...  .827  1.9   \n",
      "\n",
      "   DRB   TRB  AST  STL  BLK  TOV   PF   PTS  \n",
      "0  6.0   9.3  2.3  0.8  1.1  1.5  1.9  10.9  \n",
      "1  7.8  10.2  5.1  1.1  1.3  2.8  2.5  15.9  \n",
      "2  5.5   7.4  2.4  0.7  1.6  1.4  2.4  18.9  \n",
      "\n",
      "[3 rows x 30 columns]\n"
     ]
    }
   ],
   "source": [
    "CurrentState(df2020,2020).view(3)"
   ]
  },
  {
   "cell_type": "code",
   "execution_count": 84,
   "metadata": {},
   "outputs": [
    {
     "data": {
      "image/png": "[encoded data removed]",
      "text/plain": [
       "<Figure size 864x432 with 1 Axes>"
      ]
     },
     "metadata": {
      "needs_background": "light"
     },
     "output_type": "display_data"
    }
   ],
   "source": [
    "CurrentState(df2020, 2020).top_performers(3,'PTS')"
   ]
  },
  {
   "cell_type": "markdown",
   "metadata": {},
   "source": [
    " I wanted to do slightly more but this is just a demo. There is aonther webscraping file for you :) "
   ]
  },
  {
   "cell_type": "code",
   "execution_count": null,
   "metadata": {},
   "outputs": [],
   "source": []
  }
 ],
 "metadata": {
  "kernelspec": {
   "display_name": "Python 3",
   "language": "python",
   "name": "python3"
  },
  "language_info": {
   "codemirror_mode": {
    "name": "ipython",
    "version": 3
   },
   "file_extension": ".py",
   "mimetype": "text/x-python",
   "name": "python",
   "nbconvert_exporter": "python",
   "pygments_lexer": "ipython3",
   "version": "3.7.5"
  }
 },
 "nbformat": 4,
 "nbformat_minor": 4
}
